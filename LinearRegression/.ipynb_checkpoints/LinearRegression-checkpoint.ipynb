{
 "cells": [
  {
   "cell_type": "markdown",
   "metadata": {},
   "source": [
    "<div class=\"jumbotron\">\n",
    "  <h1 class=\"display-4\" style=\"color:Blue;\">Deep analysis of Linear Regression</h1> \n",
    "</div>\n",
    "\n",
    "\n",
    "\n",
    "[![Build Status](https://github.com/mattcone/markdown-guide/workflows/tests/badge.svg?branch=master)](https://github.com/santoshkumarbvp)\n",
    "\n",
    "## Introduction\n",
    "\n",
    "Programming languages ( e.g. Python and R ) have really made the life of the developer pretty easy going. With just a few lines of code in any of the programming language is sufficient enough to do huge amount of mathematical calculations, and provide the end solution.  \n",
    "\n",
    "Moreover, knowing the intuition behind the algorithm would empower the developer even more. \n",
    "\n",
    "> This blog is concentrating the very basic algorithm of machine learning, **``Linear Regression``**. \n",
    "\n",
    "Learnings from this article would be useful to understand the rest of the algorithms in machine learning and deep learning. Topics like below would be regularly used in machine learning field:\n",
    "><ul>\n",
    ">    <li> Loss Function\n",
    ">    <li> Gradient Descent\n",
    ">    <li> Weight initialization\n",
    "></ul>\n",
    "\n",
    "<br>\n",
    "\n",
    "```Note : For theoratical background about the topic. Luis Serrano lecture is very informative``` [video](https://www.youtube.com/watch?v=wYPUhge9w5c)\n",
    "\n",
    "<br>\n",
    "\n",
    "### Background\n",
    "\n",
    "><ol>\n",
    "> <li> What is Linear Regression : It is a model which showcase linear behavior between dependent and independent variables. \n",
    " $$ f(x) = y = m x + c $$\n",
    "><li> Above equation highlights the relation between two variables, and which later could be used to predict the dependent values(y).\n",
    "> <li>Equation(model) has its weight and bias which would be determined through training process.\n",
    "></ol>\n"
   ]
  },
  {
   "cell_type": "markdown",
   "metadata": {},
   "source": [
    "\n",
    "\n",
    "### Synopsis\n",
    "\n",
    "First, Lets discuss the whole algorithm at high level before going into deep inside.\n",
    "><ol>\n",
    ">  <li> Will take the fake linear data for the model\n",
    "> <br>\n",
    "> <br>\n",
    ">   <li> will intialize the weight($m$) and bias($c$) for the first iteration. Initially, we have freedom to select regression line, so $ y = y_{mean} $ equation is considered as regression line. thus, $m$ would be $zero$ and $c$ would be $y_{mean}$ for first iteration.\n",
    "> <br>\n",
    "> <br>\n",
    ">   <li> will calculate the $loss$ for $m$ and $c$\n",
    ">          $$Loss ( L) = \\sum_{j=0}^{n} \\frac{1}{2n} (\\hat{y_i}-y_i)^2$$\n",
    ">       where,         $$\\hat{y_i} = mx_i +c $$ \n",
    "> <br>\n",
    "> Note: Numeric 2 is used just to avoid the scalar number in gradient later on. \n",
    "> <br>\n",
    "> <br>\n",
    "> <li> will calculate the $gradient$ with respect to weight ($m$) and bias ($c$)\n",
    "> <br>\n",
    "> <br>\n",
    "> $$ \\frac{\\partial L}{\\partial m} = \\frac{\\partial (\\sum_{j=0}^{n} \\frac{1}{2n} (\\hat{y_i}-y_i)^2)}{\\partial m}    $$\n",
    "> <br>\n",
    "> <br>\n",
    "> $$ \\frac{\\partial L}{\\partial m} = \\frac{\\partial (\\sum_{j=0}^{n} \\frac{1}{2n} (mx_i +c -y_i)^2)}{\\partial m}$$ \n",
    ">  Now applying chain rule,\n",
    "> <br>\n",
    "> <br>\n",
    ">  $$ \\frac{\\partial L}{\\partial m} =\\frac{1}{2n} (2) \\sum_{j=0}^{n}(\\hat{y_i}-y_i) \\frac{\\partial (\\sum_{j=0}^{n} (mx_i +c -y_i)}{\\partial m} $$    \n",
    "> <br>\n",
    "> <br>\n",
    ">      $c$ and $y_i$ both are constant wrt $m$ so their derivative would be zero. \n",
    "> <br>\n",
    "> <br>\n",
    "> <p style=\"background-color:powderblue;\"> $$ \\frac{\\partial L}{\\partial m} =\\frac{1}{n} \\sum_{j=0}^{n} \\begin{Bmatrix}(\\hat{y_i}-y_i)  (x_i) \\end{Bmatrix} $$</p>  \n",
    "> <br>    \n",
    "> <br>   \n",
    "> <li> Similarly, $gradient$ wrt $c$ would be derived\n",
    ">  $$ \\frac{\\partial L}{\\partial c} = \\frac{\\partial (\\sum_{j=0}^{n} \\frac{1}{2n} (\\hat{y_i}-y_i)^2)}{\\partial c}    $$ \n",
    ">   Now applying chain rule again,\n",
    "> <br>    \n",
    "> <br> \n",
    ">  $$ \\frac{\\partial L}{\\partial c} =\\frac{1}{2n} (2) \\sum_{j=0}^{n}(\\hat{y_i}-y_i) \\frac{\\partial (\\sum_{j=0}^{n} (mx_i +c -y_i)}{\\partial c} $$   \n",
    "> <p style=\"background-color:powderblue;\"> $$ \\frac{\\partial L}{\\partial c} =\\frac{1}{n} \\sum_{j=0}^{n} \\begin{Bmatrix}(\\hat{y_i}-y_i)\\end{Bmatrix}\t$$</p> \n",
    "> <br>    \n",
    "> <br>\n",
    "> <li> Will update the $weight$ and $bias$ with gradient.\n",
    "> <br>In below equation, $lr$ is learning rate which is a hyperparameter.\n",
    "> <br>    \n",
    "> <br>\n",
    ">  $$  m_{new} = m_{old} - (lr) (\\frac{\\partial L}{\\partial m}) $$\n",
    ">  or from step $4$, placing derivative value, \n",
    "> <p style=\"background-color:powderblue;\">$$ m_{new} = m_{old} - (lr) (\\frac{1}{n} \\sum_{j=0}^{n} \\begin{Bmatrix}(\\hat{y_i}-y_i) (x_i)\\end{Bmatrix}) $$ </p>\n",
    "> \n",
    "> <br>    \n",
    "> <br>\n",
    "> Similarly, updating value for $c$\n",
    ">\n",
    "> $$  c_{new} = c_{old} - (lr) (\\frac{\\partial L}{\\partial c}) $$\n",
    ">\n",
    "> or from step $5$, placing derivative value,\n",
    "> <p style=\"background-color:powderblue;\"> $$ c_{new} = c_{old} - (lr) (\\frac{1}{n} \\sum_{j=0}^{n} \\begin{Bmatrix}(\\hat{y_i}-y_i)\\end{Bmatrix}) $$ </p>\n",
    ">\n",
    "> <br>    \n",
    "> <br>\n",
    "> <li> Repeat all the steps from $3$ till the $gradient$ is very small, which leads to weight and bias not changing. That is the point where $weight$ and $bias$ values will decide the model.  $$ y = m_{final} x + c_{final}$$\n",
    "></ol>"
   ]
  },
  {
   "cell_type": "markdown",
   "metadata": {},
   "source": [
    "### Implementation\n",
    "\n",
    "<h1 style=\"font-size:150%; background-color:lightyellow;\">Step 1</h1>\n",
    "\n",
    "\n",
    "Fake data prepration \n",
    "- Weight and bias are known, where $m = 5$ and $c = 11$\n",
    "- Will predict weight and bias from algorithm and later will compare with known values\n",
    "- Adding a noise in equation"
   ]
  },
  {
   "cell_type": "code",
   "execution_count": 42,
   "metadata": {},
   "outputs": [],
   "source": [
    "import numpy as np\n",
    "import seaborn as sns\n",
    "import random"
   ]
  },
  {
   "cell_type": "code",
   "execution_count": 35,
   "metadata": {},
   "outputs": [],
   "source": [
    "%config Completer.use_jedi = False"
   ]
  },
  {
   "cell_type": "code",
   "execution_count": 120,
   "metadata": {},
   "outputs": [],
   "source": [
    "\n",
    "\n",
    "x = np.linspace(1,20,20)\n",
    "e = np.random.randint(-9,8,20)\n",
    "\n",
    "\n",
    "w_actual = [3,11]\n",
    "\n",
    "y =  w_actual[0]*x + w_actual[1] + e"
   ]
  },
  {
   "cell_type": "code",
   "execution_count": 95,
   "metadata": {},
   "outputs": [
    {
     "data": {
      "text/plain": [
       "<AxesSubplot:>"
      ]
     },
     "execution_count": 95,
     "metadata": {},
     "output_type": "execute_result"
    },
    {
     "data": {
      "image/png": "[encoded data removed]",
      "text/plain": [
       "<Figure size 432x288 with 1 Axes>"
      ]
     },
     "metadata": {
      "needs_background": "light"
     },
     "output_type": "display_data"
    }
   ],
   "source": [
    "sns.scatterplot(x=x,y=y)"
   ]
  },
  {
   "cell_type": "markdown",
   "metadata": {},
   "source": [
    "-----------------\n",
    "<!-- **```Step 2```**-->\n",
    "<h1 style=\"font-size:150%; background-color:lightyellow;\">Step 2</h1>\n",
    "\n",
    "- Initializing the weight and bias with random regression line. \n",
    "- $y=y_{mean}$ is selected for first regression line, which is horizontal starting line.\n",
    "- $m = 0$ and $ c = y_{mean} $\n",
    "- One list for weight and bias value, with name $w$"
   ]
  },
  {
   "cell_type": "code",
   "execution_count": 99,
   "metadata": {},
   "outputs": [],
   "source": [
    "m = 0\n",
    "c = y.mean()"
   ]
  },
  {
   "cell_type": "code",
   "execution_count": 100,
   "metadata": {},
   "outputs": [],
   "source": [
    "w = [m,c]"
   ]
  },
  {
   "cell_type": "code",
   "execution_count": 101,
   "metadata": {},
   "outputs": [
    {
     "data": {
      "text/plain": [
       "[0, 42.7]"
      ]
     },
     "execution_count": 101,
     "metadata": {},
     "output_type": "execute_result"
    }
   ],
   "source": [
    "w"
   ]
  },
  {
   "cell_type": "markdown",
   "metadata": {},
   "source": [
    "-----------------\n",
    "<h1 style=\"font-size:150%; background-color:lightyellow;\">Step 3</h1>\n",
    "\n",
    "- calculating the <br> $ Loss ( L) = \\sum_{j=0}^{n} \\frac{1}{2n} (\\hat{y_i}-y_i)^2$ <br><br>\n",
    "- Before that $\\hat{y}$ is to be calculated. \n",
    "<br>\n",
    "$\\hat{y_i} = mx_i +c $ <br> <br>\n",
    "- $w$ contains both starting value of $weight$ and $bias$"
   ]
  },
  {
   "cell_type": "code",
   "execution_count": 102,
   "metadata": {},
   "outputs": [],
   "source": [
    "def y_hat(x,w):\n",
    "    return w[0]*x + w[1]"
   ]
  },
  {
   "cell_type": "code",
   "execution_count": 103,
   "metadata": {},
   "outputs": [],
   "source": [
    "def loss(x,y,w):\n",
    "    y_hat_v = y_hat(x,w)\n",
    "    n=len(y)\n",
    "    return (0.5/n)*sum([(y_hat_v[i]-y_v)**2 for i,y_v in enumerate(y)])"
   ]
  },
  {
   "cell_type": "markdown",
   "metadata": {},
   "source": [
    "<h1 style=\"font-size:150%; background-color:lightyellow;\">Step 4, 5 </h1>\n",
    "\n",
    "\n",
    "- Calculating the gradient for $m$ and $c$ respectively <br><br> $ \\frac{\\partial L}{\\partial m} =\\frac{1}{n} \\sum_{j=0}^{n} \\begin{Bmatrix}(\\hat{y_i}-y_i)  (x_i) \\end{Bmatrix} $ <br><br>\n",
    " $ \\frac{\\partial L}{\\partial c} =\\frac{1}{n} \\sum_{j=0}^{n} \\begin{Bmatrix}(\\hat{y_i}-y_i)\\end{Bmatrix}\t$\n",
    " <br><br>"
   ]
  },
  {
   "cell_type": "code",
   "execution_count": 109,
   "metadata": {},
   "outputs": [],
   "source": [
    "def grad(x ,y,w):\n",
    "    g = [0]*2\n",
    "    g[0] = (1/len(y)) * sum((y_hat(x,w) - y)* x)\n",
    "    g[1] = (1/len(y)) * sum(y_hat(x,w) - y) \n",
    "    return g"
   ]
  },
  {
   "cell_type": "markdown",
   "metadata": {},
   "source": [
    "<h1 style=\"font-size:150%; background-color:lightyellow;\">Step 6</h1>\n",
    "\n",
    "\n",
    "- Updating the $weight$ and $bias$ <br><br>\n",
    " $ m_{new} = m_{old} - (lr) (\\frac{1}{n} \\sum_{j=0}^{n} \\begin{Bmatrix}(\\hat{y_i}-y_i) (x_i)\\end{Bmatrix}) $\n",
    " <br><br>\n",
    " $ c_{new} = c_{old} - (lr) (\\frac{1}{n} \\sum_{j=0}^{n} \\begin{Bmatrix}(\\hat{y_i}-y_i)\\end{Bmatrix}) $ \n",
    " <br><br>\n",
    " - Now updated $weight$ and $bias$ would be used to calculate $loss$, then the gradient to update the $weight$ and $bias$.\n",
    " - This process of updating the weight and bias would go on, till gradient becomes minisculy small.\n",
    " - Here we are stopping the updation after 4000 iteration."
   ]
  },
  {
   "cell_type": "code",
   "execution_count": 115,
   "metadata": {},
   "outputs": [],
   "source": [
    "def descent(w_new,w_old,lr):\n",
    "    \n",
    "    print(f'Initial weight and bias {w_old}' )\n",
    "    j=0\n",
    "    while True:\n",
    "        w_old = w_new\n",
    "        w0 = w_old[0] - lr*grad(x,y,w_old)[0]\n",
    "        w1 = w_old[1] - lr*grad(x,y,w_old)[1] \n",
    "        w_new= [w0,w1]\n",
    "        if j%300 == 0:        \n",
    "            print(f'loss is {loss(x,y,w_new)}. Weight and bias are {w_new[0],w_new[1]}')\n",
    "        if j > 4000:\n",
    "            return w_new\n",
    "        j+=1"
   ]
  },
  {
   "cell_type": "markdown",
   "metadata": {},
   "source": [
    "<h1 style=\"font-size:150%; background-color:lightyellow;\">Step 7 </h1>\n",
    "\n",
    "- Envoking the code with initial $weight$ and $bias$\n",
    "- Learning rate is hyperparameter, it should be optimum, between 0.01 to 0.001. All depends on data. \n",
    "- Highlighting the model with final $weight$ and $bias$\n"
   ]
  },
  {
   "cell_type": "code",
   "execution_count": 112,
   "metadata": {},
   "outputs": [
    {
     "name": "stdout",
     "output_type": "stream",
     "text": [
      "[0, 42.7]\n",
      "loss is 127.52229293750003. Weight and bias are (0.9754999999999998, 42.7)\n",
      "loss is 38.8051475079198. Weight and bias are (1.8047441620777256, 27.300856161223194)\n",
      "loss is 18.194567763146278. Weight and bias are (2.3687612758828154, 19.60500225473718)\n",
      "loss is 13.03227833383949. Weight and bias are (2.651033634977644, 15.753475795233921)\n",
      "loss is 11.739290340200405. Weight and bias are (2.7923018390068144, 13.825911128790384)\n",
      "loss is 11.415438302342222. Weight and bias are (2.8630020150127926, 12.86122723465436)\n",
      "loss is 11.334323749894041. Weight and bias are (2.8983851709156183, 12.37843408545097)\n",
      "loss is 11.314007155123218. Weight and bias are (2.9160932982834744, 12.136811698745232)\n",
      "loss is 11.308918499504422. Weight and bias are (2.9249556444161198, 12.015887493723469)\n",
      "loss is 11.307643954419538. Weight and bias are (2.92939096258067, 11.955368832520293)\n",
      "loss is 11.30732472173903. Weight and bias are (2.9316106961508037, 11.925081196118937)\n",
      "loss is 11.307244764187496. Weight and bias are (2.9327216011500803, 11.909923211779168)\n",
      "loss is 11.307224737384352. Weight and bias are (2.933277573242417, 11.902337129913956)\n",
      "loss is 11.307219721312245. Weight and bias are (2.9335558193279585, 11.89854054081769)\n"
     ]
    }
   ],
   "source": [
    "w = descent(w,w,0.01)"
   ]
  },
  {
   "cell_type": "code",
   "execution_count": 122,
   "metadata": {},
   "outputs": [
    {
     "name": "stdout",
     "output_type": "stream",
     "text": [
      "Final weight is 2.93 and bias is 11.9 from the algorithm\n",
      "Actual weight is 3 and bias is 11\n"
     ]
    }
   ],
   "source": [
    "print(f'Final weight is {w[0].round(2)} and bias is {w[1].round(2)} from the algorithm')\n",
    "print(f'Actual weight is {w_actual[0]} and bias is {w_actual[1]}')\n"
   ]
  },
  {
   "cell_type": "markdown",
   "metadata": {},
   "source": [
    "<div class=\"jumbotron\">\n",
    "  <h1 class=\"display-4\" style=\"color:Blue;\">Nice!! We are able to explore the entire linear regression algorithm mechanics.This is an amazing feeling to know, what is happening in the backhand.  </h1> \n",
    "</div>\n"
   ]
  },
  {
   "cell_type": "code",
   "execution_count": null,
   "metadata": {},
   "outputs": [],
   "source": []
  }
 ],
 "metadata": {
  "kernelspec": {
   "display_name": "Python 3",
   "language": "python",
   "name": "python3"
  },
  "language_info": {
   "codemirror_mode": {
    "name": "ipython",
    "version": 3
   },
   "file_extension": ".py",
   "mimetype": "text/x-python",
   "name": "python",
   "nbconvert_exporter": "python",
   "pygments_lexer": "ipython3",
   "version": "3.8.5"
  }
 },
 "nbformat": 4,
 "nbformat_minor": 4
}
